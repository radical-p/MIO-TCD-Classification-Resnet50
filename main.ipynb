{
  "cells": [
    {
      "cell_type": "code",
      "execution_count": 14,
      "metadata": {
        "id": "JqS9_v-c1rMT"
      },
      "outputs": [],
      "source": [
        "!pip install wandb -qU"
      ]
    },
    {
      "cell_type": "code",
      "execution_count": null,
      "metadata": {
        "id": "Oy_NQ2lQ3LHY"
      },
      "outputs": [],
      "source": [
        "import os\n",
        "import numpy as np\n",
        "from sklearn.preprocessing import OneHotEncoder\n",
        "from sklearn.model_selection import train_test_split\n",
        "from keras.models import Sequential\n",
        "from keras.layers import Conv2D, MaxPooling2D, Flatten, Dense, Dropout\n",
        "from keras.applications.resnet import ResNet50\n",
        "from keras.optimizers import Adam\n",
        "from keras.callbacks import EarlyStopping\n",
        "import wandb\n",
        "from wandb.keras import WandbCallback\n",
        "from sklearn.model_selection import RandomizedSearchCV\n",
        "from scipy.stats import loguniform"
      ]
    },
    {
      "cell_type": "code",
      "execution_count": 23,
      "metadata": {
        "colab": {
          "base_uri": "https://localhost:8080/"
        },
        "id": "dbyA_gkq3-rA",
        "outputId": "db05d525-30ed-40e9-cb72-6c54f3e84868"
      },
      "outputs": [
        {
          "name": "stderr",
          "output_type": "stream",
          "text": [
            "\u001b[34m\u001b[1mwandb\u001b[0m: \u001b[33mWARNING\u001b[0m Calling wandb.login() after wandb.init() has no effect.\n"
          ]
        },
        {
          "data": {
            "text/plain": [
              "True"
            ]
          },
          "execution_count": 23,
          "metadata": {},
          "output_type": "execute_result"
        }
      ],
      "source": [
        "wandb.login()"
      ]
    },
    {
      "cell_type": "code",
      "execution_count": 24,
      "metadata": {
        "colab": {
          "base_uri": "https://localhost:8080/",
          "height": 477
        },
        "id": "VvZlE8ufBxSS",
        "outputId": "1136d627-7122-4d02-c4c2-9658e87427ce"
      },
      "outputs": [
        {
          "data": {
            "text/html": [
              "Finishing last run (ID:1btsf6j9) before initializing another..."
            ],
            "text/plain": [
              "<IPython.core.display.HTML object>"
            ]
          },
          "metadata": {},
          "output_type": "display_data"
        },
        {
          "data": {
            "text/html": [
              "Waiting for W&B process to finish... <strong style=\"color:green\">(success).</strong>"
            ],
            "text/plain": [
              "<IPython.core.display.HTML object>"
            ]
          },
          "metadata": {},
          "output_type": "display_data"
        },
        {
          "data": {
            "text/html": [
              "<style>\n",
              "    table.wandb td:nth-child(1) { padding: 0 10px; text-align: left ; width: auto;} td:nth-child(2) {text-align: left ; width: 100%}\n",
              "    .wandb-row { display: flex; flex-direction: row; flex-wrap: wrap; justify-content: flex-start; width: 100% }\n",
              "    .wandb-col { display: flex; flex-direction: column; flex-basis: 100%; flex: 1; padding: 10px; }\n",
              "    </style>\n",
              "<div class=\"wandb-row\"><div class=\"wandb-col\"><h3>Run history:</h3><br/><table class=\"wandb\"><tr><td>accuracy</td><td>▁▅▇██▁▅▇██▂▅▆█</td></tr><tr><td>epoch</td><td>▁▃▅▆█▁▃▅▆█▁▃▅▆</td></tr><tr><td>loss</td><td>█▄▂▂▁█▄▂▁▁█▄▃▁</td></tr><tr><td>val_accuracy</td><td>▄▁▅▅▇██▆▂▄▇▂▅▅</td></tr><tr><td>val_loss</td><td>▄█▄▄▂▁▁▃▆▄▂▆▄▄</td></tr></table><br/></div><div class=\"wandb-col\"><h3>Run summary:</h3><br/><table class=\"wandb\"><tr><td>accuracy</td><td>0.66889</td></tr><tr><td>best_epoch</td><td>1</td></tr><tr><td>best_val_loss</td><td>0.33271</td></tr><tr><td>epoch</td><td>3</td></tr><tr><td>loss</td><td>0.84391</td></tr><tr><td>val_accuracy</td><td>0.65539</td></tr><tr><td>val_loss</td><td>0.93832</td></tr></table><br/></div></div>"
            ],
            "text/plain": [
              "<IPython.core.display.HTML object>"
            ]
          },
          "metadata": {},
          "output_type": "display_data"
        },
        {
          "data": {
            "text/html": [
              " View run <strong style=\"color:#cdcd00\">stellar-cherry-2</strong> at: <a href='https://wandb.ai/radical-p/ci-part2/runs/1btsf6j9' target=\"_blank\">https://wandb.ai/radical-p/ci-part2/runs/1btsf6j9</a><br/>Synced 5 W&B file(s), 4 media file(s), 25 artifact file(s) and 1 other file(s)"
            ],
            "text/plain": [
              "<IPython.core.display.HTML object>"
            ]
          },
          "metadata": {},
          "output_type": "display_data"
        },
        {
          "data": {
            "text/html": [
              "Find logs at: <code>./wandb/run-20230517_090229-1btsf6j9/logs</code>"
            ],
            "text/plain": [
              "<IPython.core.display.HTML object>"
            ]
          },
          "metadata": {},
          "output_type": "display_data"
        },
        {
          "data": {
            "text/html": [
              "Successfully finished last run (ID:1btsf6j9). Initializing new run:<br/>"
            ],
            "text/plain": [
              "<IPython.core.display.HTML object>"
            ]
          },
          "metadata": {},
          "output_type": "display_data"
        },
        {
          "data": {
            "text/html": [
              "Tracking run with wandb version 0.15.2"
            ],
            "text/plain": [
              "<IPython.core.display.HTML object>"
            ]
          },
          "metadata": {},
          "output_type": "display_data"
        },
        {
          "data": {
            "text/html": [
              "Run data is saved locally in <code>/content/wandb/run-20230517_115709-pw39nktr</code>"
            ],
            "text/plain": [
              "<IPython.core.display.HTML object>"
            ]
          },
          "metadata": {},
          "output_type": "display_data"
        },
        {
          "data": {
            "text/html": [
              "Syncing run <strong><a href='https://wandb.ai/radical-p/ci-part2/runs/pw39nktr' target=\"_blank\">super-snowflake-3</a></strong> to <a href='https://wandb.ai/radical-p/ci-part2' target=\"_blank\">Weights & Biases</a> (<a href='https://wandb.me/run' target=\"_blank\">docs</a>)<br/>"
            ],
            "text/plain": [
              "<IPython.core.display.HTML object>"
            ]
          },
          "metadata": {},
          "output_type": "display_data"
        },
        {
          "data": {
            "text/html": [
              " View project at <a href='https://wandb.ai/radical-p/ci-part2' target=\"_blank\">https://wandb.ai/radical-p/ci-part2</a>"
            ],
            "text/plain": [
              "<IPython.core.display.HTML object>"
            ]
          },
          "metadata": {},
          "output_type": "display_data"
        },
        {
          "data": {
            "text/html": [
              " View run at <a href='https://wandb.ai/radical-p/ci-part2/runs/pw39nktr' target=\"_blank\">https://wandb.ai/radical-p/ci-part2/runs/pw39nktr</a>"
            ],
            "text/plain": [
              "<IPython.core.display.HTML object>"
            ]
          },
          "metadata": {},
          "output_type": "display_data"
        },
        {
          "data": {
            "text/html": [
              "<button onClick=\"this.nextSibling.style.display='block';this.style.display='none';\">Display W&B run</button><iframe src='https://wandb.ai/radical-p/ci-part2/runs/pw39nktr?jupyter=true' style='border:none;width:100%;height:420px;display:none;'></iframe>"
            ],
            "text/plain": [
              "<wandb.sdk.wandb_run.Run at 0x7f7940fafe80>"
            ]
          },
          "execution_count": 24,
          "metadata": {},
          "output_type": "execute_result"
        }
      ],
      "source": [
        "# Initialize wandb\n",
        "wandb.init(project='ci-part2', entity='radical-p')"
      ]
    },
    {
      "cell_type": "code",
      "execution_count": null,
      "metadata": {
        "colab": {
          "background_save": true
        },
        "id": "1XfTtaBM4hr5"
      },
      "outputs": [],
      "source": [
        "# Define the path to the train, test, and validation folders\n",
        "train_path = '/content/drive/MyDrive/output_folder/HW02-Practical/Dataset/train'\n",
        "test_path = '/content/drive/MyDrive/output_folder/HW02-Practical/Dataset/test'\n",
        "val_path = '/content/drive/MyDrive/output_folder/HW02-Practical/Dataset/valid'"
      ]
    },
    {
      "cell_type": "code",
      "execution_count": 28,
      "metadata": {
        "id": "x0ig2jCSCTJY"
      },
      "outputs": [],
      "source": [
        "import cv2\n",
        "# Define the image size\n",
        "#img_size = (112, 112)\n",
        "img_size = (56, 56)\n",
        "\n",
        "# Define the number of classes\n",
        "num_classes = 5\n",
        "\n",
        "# Define the class names and their corresponding integer labels\n",
        "class_names = ['articulated_truck', 'background', 'bus', 'car', 'work_van']\n",
        "class_dict = {class_name: i for i, class_name in enumerate(class_names)}\n",
        "\n",
        "# Load the images and labels from the train folder\n",
        "train_images = []\n",
        "train_labels = []\n",
        "for folder in os.listdir(train_path):\n",
        "    folder_path = os.path.join(train_path, folder)\n",
        "    for file in os.listdir(folder_path):\n",
        "        file_path = os.path.join(folder_path, file)\n",
        "        img = cv2.imread(file_path)\n",
        "        img = cv2.resize(img, img_size)\n",
        "        img = img.astype('float32') / 255.0\n",
        "        train_images.append(img)\n",
        "        train_labels.append(class_dict[folder])\n",
        "\n",
        "# Load the images and labels from the test folder\n",
        "test_images = []\n",
        "test_labels = []\n",
        "for folder in os.listdir(test_path):\n",
        "    folder_path = os.path.join(test_path, folder)\n",
        "    for file in os.listdir(folder_path):\n",
        "        file_path = os.path.join(folder_path, file)\n",
        "        img = cv2.imread(file_path)\n",
        "        img = cv2.resize(img, img_size)\n",
        "        img = img.astype('float32') / 255.0\n",
        "        test_images.append(img)\n",
        "        test_labels.append(class_dict[folder])\n",
        "\n",
        "# Load the images and labels from the validation folder\n",
        "val_images = []\n",
        "val_labels = []\n",
        "for folder in os.listdir(val_path):\n",
        "    folder_path = os.path.join(val_path, folder)\n",
        "    for file in os.listdir(folder_path):\n",
        "        file_path = os.path.join(folder_path, file)\n",
        "        img = cv2.imread(file_path)\n",
        "        img = cv2.resize(img, img_size)\n",
        "        img = img.astype('float32') / 255.0\n",
        "        val_images.append(img)\n",
        "        val_labels.append(class_dict[folder])\n",
        "\n",
        "\n",
        "# Convert the images and labels to arrays\n",
        "train_images = np.array(train_images)\n",
        "train_labels = np.array(train_labels)\n",
        "test_images = np.array(test_images)\n",
        "test_labels = np.array(test_labels)\n",
        "val_images = np.array(val_images)\n",
        "val_labels = np.array(val_labels)\n",
        "\n",
        "# One-hot encode the labels\n",
        "enc = OneHotEncoder(categories='auto')\n",
        "train_labels = enc.fit_transform(train_labels.reshape(-1, 1)).toarray()\n",
        "test_labels = enc.transform(test_labels.reshape(-1, 1)).toarray()\n",
        "val_labels = enc.transform(val_labels.reshape(-1, 1)).toarray()"
      ]
    },
    {
      "cell_type": "code",
      "execution_count": null,
      "metadata": {
        "colab": {
          "background_save": true
        },
        "id": "9nXlRda0CygO"
      },
      "outputs": [],
      "source": [
        "# Define the ResNet18 model\n",
        "from keras.wrappers.scikit_learn import KerasClassifier\n",
        "\n",
        "def create_model(lr=1e-3, num_classes=5):\n",
        "    base_model = ResNet50(include_top=False, weights='imagenet', input_shape=(img_size[0], img_size[1], 3))\n",
        "    model = Sequential()\n",
        "    model.add(base_model)\n",
        "    model.add(Flatten())\n",
        "    model.add(Dense(num_classes, activation='softmax'))\n",
        "\n",
        "    # Freeze the base model layers\n",
        "    for layer in base_model.layers:\n",
        "        layer.trainable = False\n",
        "\n",
        "    # Compile the model with the given hyperparameters\n",
        "    optimizer = Adam(lr=lr)\n",
        "    model.compile(optimizer=optimizer, loss='categorical_crossentropy', metrics=['accuracy'])\n",
        "    \n",
        "    return model\n",
        "\n",
        "# Wrap the Keras model in a scikit-learn KerasClassifier\n",
        "model = KerasClassifier(build_fn=create_model, verbose=0)"
      ]
    },
    {
      "cell_type": "code",
      "execution_count": null,
      "metadata": {
        "id": "Uei7JAkoDBM8"
      },
      "outputs": [],
      "source": [
        "# Define the hyperparameters to tune\n",
        "'''\n",
        "param_dist = {\n",
        "    'lr': loguniform(1e-4, 1e-2),\n",
        "    'batch_size': [8, 32, 64],\n",
        "    'epochs': [5, 10, 20]\n",
        "}\n",
        "'''\n",
        "param_dist = {\n",
        "    'lr': loguniform(1e-4, 1e-2),\n",
        "    'batch_size': [32],\n",
        "    'epochs': [5]\n",
        "}"
      ]
    },
    {
      "cell_type": "code",
      "execution_count": null,
      "metadata": {
        "colab": {
          "base_uri": "https://localhost:8080/"
        },
        "id": "zD5cLVCXDcP-",
        "outputId": "0ee077b3-704f-4f67-ab58-75435f9fb7fc"
      },
      "outputs": [
        {
          "name": "stdout",
          "output_type": "stream",
          "text": [
            "Fitting 3 folds for each of 3 candidates, totalling 9 fits\n"
          ]
        }
      ],
      "source": [
        "# Run theparameter tuning with random search\n",
        "random_search = RandomizedSearchCV(model, param_distributions=param_dist, n_iter=3, cv=3, n_jobs=-1, verbose=1)\n",
        "random_search.fit(train_images, train_labels)"
      ]
    },
    {
      "cell_type": "code",
      "execution_count": 19,
      "metadata": {
        "colab": {
          "base_uri": "https://localhost:8080/"
        },
        "id": "5Sck9QIaQ33j",
        "outputId": "16a03a80-5ad2-4d7d-d322-651011f7ad04"
      },
      "outputs": [
        {
          "name": "stdout",
          "output_type": "stream",
          "text": [
            "Epoch 1/5\n",
            "469/469 [==============================] - 209s 436ms/step - loss: 1.1137 - accuracy: 0.5506 - val_loss: 0.6010 - val_accuracy: 0.8182\n",
            "Epoch 2/5\n",
            "469/469 [==============================] - 198s 422ms/step - loss: 0.9502 - accuracy: 0.6244 - val_loss: 1.3918 - val_accuracy: 0.3975\n",
            "Epoch 3/5\n",
            "469/469 [==============================] - 182s 388ms/step - loss: 0.9047 - accuracy: 0.6452 - val_loss: 0.9068 - val_accuracy: 0.6998\n",
            "Epoch 4/5\n",
            "469/469 [==============================] - 191s 407ms/step - loss: 0.8439 - accuracy: 0.6689 - val_loss: 0.9383 - val_accuracy: 0.6554\n",
            "157/157 [==============================] - 58s 370ms/step - loss: 0.8937 - accuracy: 0.6622\n",
            "Test accuracy: 0.6621999740600586\n"
          ]
        }
      ],
      "source": [
        "# Evaluate the model on the test set with the best hyperparameters\n",
        "lr = random_search.best_params_['lr']\n",
        "batch_size = random_search.best_params_['batch_size']\n",
        "epochs = random_search.best_params_['epochs']\n",
        "model = create_model(lr=lr, num_classes=num_classes)\n",
        "model.fit(train_images, train_labels, epochs=epochs, batch_size=batch_size, validation_data=(val_images, val_labels), callbacks=[WandbCallback(), EarlyStopping(patience=3)])\n",
        "test_loss, test_acc = model.evaluate(test_images, test_labels)\n",
        "print('Test accuracy:', test_acc)"
      ]
    },
    {
      "cell_type": "code",
      "execution_count": 21,
      "metadata": {
        "colab": {
          "base_uri": "https://localhost:8080/"
        },
        "id": "yIZSRReOjYef",
        "outputId": "e9963f8e-308d-4deb-8ed4-acf6b216edb9"
      },
      "outputs": [
        {
          "name": "stderr",
          "output_type": "stream",
          "text": [
            "<ipython-input-21-31b19f1ff459>:19: DeprecationWarning: KerasClassifier is deprecated, use Sci-Keras (https://github.com/adriangb/scikeras) instead. See https://www.adriangb.com/scikeras/stable/migration.html for help migrating.\n",
            "  model_learnable = KerasClassifier(build_fn=create_model, verbose=0)\n"
          ]
        }
      ],
      "source": [
        "def create_model_learnable(lr=1e-3, num_classes=5):\n",
        "    base_model = ResNet50(include_top=False, weights='imagenet', input_shape=(img_size[0], img_size[1], 3))\n",
        "    model = Sequential()\n",
        "    model.add(base_model)\n",
        "    model.add(Flatten())\n",
        "    model.add(Dense(num_classes, activation='softmax'))\n",
        "\n",
        "    # Freeze the base model layers\n",
        "    for layer in base_model.layers:\n",
        "        layer.trainable = True\n",
        "\n",
        "    # Compile the model with the given hyperparameters\n",
        "    optimizer = Adam(lr=lr)\n",
        "    model.compile(optimizer=optimizer, loss='categorical_crossentropy', metrics=['accuracy'])\n",
        "    \n",
        "    return model"
      ]
    },
    {
      "cell_type": "code",
      "execution_count": 26,
      "metadata": {
        "colab": {
          "base_uri": "https://localhost:8080/"
        },
        "id": "UCvyve7fgbqY",
        "outputId": "803fa7a4-6e89-41ea-f495-27c12e302120"
      },
      "outputs": [
        {
          "name": "stderr",
          "output_type": "stream",
          "text": [
            "/usr/local/lib/python3.10/dist-packages/keras/optimizers/legacy/adam.py:117: UserWarning: The `lr` argument is deprecated, use `learning_rate` instead.\n",
            "  super().__init__(name, **kwargs)\n"
          ]
        },
        {
          "name": "stdout",
          "output_type": "stream",
          "text": [
            "Epoch 1/5\n",
            "469/469 [==============================] - 2042s 4s/step - loss: 2.5122 - accuracy: 0.3502 - val_loss: 6.6333 - val_accuracy: 0.0085\n",
            "Epoch 2/5\n",
            "469/469 [==============================] - 2057s 4s/step - loss: 1.1802 - accuracy: 0.5804 - val_loss: 1.1080 - val_accuracy: 0.5307\n",
            "Epoch 3/5\n",
            "469/469 [==============================] - ETA: 0s - loss: 0.8177 - accuracy: 0.7020"
          ]
        },
        {
          "name": "stderr",
          "output_type": "stream",
          "text": [
            "WARNING:absl:Found untraced functions such as _jit_compiled_convolution_op, _jit_compiled_convolution_op, _jit_compiled_convolution_op, _jit_compiled_convolution_op, _jit_compiled_convolution_op while saving (showing 5 of 53). These functions will not be directly callable after loading.\n",
            "\u001b[34m\u001b[1mwandb\u001b[0m: Adding directory to artifact (/content/wandb/run-20230517_115709-pw39nktr/files/model-best)... Done. 1.7s\n"
          ]
        },
        {
          "name": "stdout",
          "output_type": "stream",
          "text": [
            "469/469 [==============================] - 2442s 5s/step - loss: 0.8177 - accuracy: 0.7020 - val_loss: 0.8841 - val_accuracy: 0.6617\n",
            "Epoch 4/5\n",
            "469/469 [==============================] - 2332s 5s/step - loss: 0.6157 - accuracy: 0.7771 - val_loss: 1.2261 - val_accuracy: 0.5899\n",
            "Epoch 5/5\n",
            "469/469 [==============================] - ETA: 0s - loss: 0.5125 - accuracy: 0.8205"
          ]
        },
        {
          "name": "stderr",
          "output_type": "stream",
          "text": [
            "WARNING:absl:Found untraced functions such as _jit_compiled_convolution_op, _jit_compiled_convolution_op, _jit_compiled_convolution_op, _jit_compiled_convolution_op, _jit_compiled_convolution_op while saving (showing 5 of 53). These functions will not be directly callable after loading.\n",
            "\u001b[34m\u001b[1mwandb\u001b[0m: Adding directory to artifact (/content/wandb/run-20230517_115709-pw39nktr/files/model-best)... Done. 3.5s\n"
          ]
        },
        {
          "name": "stdout",
          "output_type": "stream",
          "text": [
            "469/469 [==============================] - 2442s 5s/step - loss: 0.5125 - accuracy: 0.8205 - val_loss: 0.8253 - val_accuracy: 0.6892\n",
            "157/157 [==============================] - 70s 448ms/step - loss: 0.8937 - accuracy: 0.6622\n",
            "Test accuracy: 0.6621999740600586\n"
          ]
        }
      ],
      "source": [
        "model_learnable = create_model_learnable(lr=lr, num_classes=num_classes)\n",
        "model_learnable.fit(train_images, train_labels, epochs=epochs, batch_size=batch_size, validation_data=(val_images, val_labels), callbacks=[WandbCallback(), EarlyStopping(patience=3)])\n",
        "test_loss_learnable, test_acc_learnable = model_learnable.evaluate(test_images, test_labels)\n",
        "print('Test accuracy:', test_acc_learnable)"
      ]
    },
    {
      "cell_type": "code",
      "execution_count": 27,
      "metadata": {
        "colab": {
          "base_uri": "https://localhost:8080/"
        },
        "id": "m0ZNcEUsSFNI",
        "outputId": "3820b12a-c565-4697-ffb4-255505471076"
      },
      "outputs": [
        {
          "name": "stdout",
          "output_type": "stream",
          "text": [
            "157/157 [==============================] - 79s 501ms/step - loss: 0.8100 - accuracy: 0.7270\n",
            "Test accuracy: 0.7269999980926514\n"
          ]
        }
      ],
      "source": [
        "test_loss_learnable, test_acc_learnable = model_learnable.evaluate(test_images, test_labels)\n",
        "print('Test accuracy:', test_acc_learnable)"
      ]
    },
    {
      "cell_type": "code",
      "execution_count": null,
      "metadata": {
        "id": "Re50qNP2SGJe"
      },
      "outputs": [],
      "source": []
    }
  ],
  "metadata": {
    "colab": {
      "provenance": []
    },
    "kernelspec": {
      "display_name": "Python 3",
      "name": "python3"
    },
    "language_info": {
      "name": "python"
    }
  },
  "nbformat": 4,
  "nbformat_minor": 0
}
